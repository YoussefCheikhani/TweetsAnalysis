{
 "cells": [
  {
   "cell_type": "code",
   "execution_count": 6,
   "metadata": {},
   "outputs": [],
   "source": [
    "from textblob import TextBlob\n",
    "import tweepy\n",
    "import twitter_credentials as tc\n",
    "import sys\n",
    "import pandas as pd\n",
    "\n",
    "#auth\n",
    "auth = tweepy.OAuthHandler(tc.API_KEY, tc.API_KEY_SECRET)\n",
    "auth.set_access_token(tc.ACCESS_TOKEN, tc.ACCESS_TOKEN_SECRET)\n",
    "\n",
    "api = tweepy.API(auth)"
   ]
  },
  {
   "cell_type": "code",
   "execution_count": 7,
   "metadata": {},
   "outputs": [],
   "source": [
    "search_term = 'world cup 2022'\n",
    "tweet_amount = 20\n",
    "\n",
    "tweets = tweepy.Cursor(method=api.search_tweets, q=search_term, lang='en').items(tweet_amount)"
   ]
  },
  {
   "cell_type": "code",
   "execution_count": 9,
   "metadata": {},
   "outputs": [
    {
     "name": "stdout",
     "output_type": "stream",
     "text": [
      "3.5763636363636366\n",
      "positive tweets :  11\n",
      "negative tweets :  2\n",
      "neutral tweets :  7\n"
     ]
    }
   ],
   "source": [
    "polarity = 0\n",
    "\n",
    "positive = 0\n",
    "negative = 0\n",
    "neutral = 0\n",
    "\n",
    "tweets_clean = []\n",
    "for tweet in tweets:\n",
    "    tweet_text = tweet.text.replace('RT', '')       #Remove the RT Tags\n",
    "    if tweet_text.startswith(' @'):                  #Remove usernames\n",
    "        position = tweet_text.index(':')\n",
    "        tweet_text = tweet_text[position+2:]\n",
    "        tweets_clean.append(tweet_text)\n",
    "    if tweet_text.startswith('@'):                  #Remove usernames\n",
    "        position = tweet_text.index(' ')\n",
    "        tweet_text = tweet_text[position+2:]\n",
    "        tweets_clean.append(tweet_text)\n",
    "    #print(tweet_text)\n",
    "    #Analysis\n",
    "    analysis = TextBlob(tweet_text)\n",
    "    tweet_polarity = analysis.polarity\n",
    "    polarity += tweet_polarity\n",
    "    if tweet_polarity>0:\n",
    "        positive +=1\n",
    "    elif tweet_polarity<0:\n",
    "        negative+=1\n",
    "    else:\n",
    "        neutral+=1\n",
    "\n",
    "print(polarity)                            # We obtained A polarity of +54 which means the overal sentiment is very positive over the 200 tweets\n",
    "print(\"positive tweets : \",positive)\n",
    "print(\"negative tweets : \",negative)\n",
    "print(\"neutral tweets : \",neutral)\n"
   ]
  },
  {
   "cell_type": "code",
   "execution_count": 10,
   "metadata": {},
   "outputs": [
    {
     "name": "stdout",
     "output_type": "stream",
     "text": [
      "['Qatar hosted FIFA World Cup 2022 and gifted #KashmirPashmina shawls to VIPs.\\nBrand Kashmir is soaring high as these shawls…', 'Emmy_Wise10 @_AsiwajuLerry Bro just delete this, Which Most world cup assist? Most complete player… https://t.co/AP1DMmpx5e', 'jungkook graduated from uni with high honors, released 4 solo songs and an anthology album with bts, got invited to the whi…', 'Katie McCabe leading Ireland to the 2023 World Cup was truly one of my highlights of 2022 https://t.co/kWWSTWSWWe', 'Soccer legend Pelé died on Thursday at the age of 82.\\n\\nFor over 60 years Pelé stood alone as Brazil’s all-time leading s…', 'Only 3 players made 20+ tackles at the 2022 World Cup, 2 of those were Enzo Fernandez and Mateo Kovacic (@Squawka) https://t.co…', 'Lionel Messi and his 2022 World Cup. Incredible. https://t.co/YQC9lJ3y0J', 'Two disasters, one near disaster and a World Cup with a body count of thousands. Meanwhile, another faultless year for…', '🕯️ Remembering Pelé 🕯️\\n\\nTributes flooded in for the late Brazilian soccer legend, who was revered worldwide for his Wor…', '\"The love of football is not gender-specific, nor is it dictated by country or class. This is truly the world’s game.\"\\xa0…', 'IFFHS AWARDS 2022 - THE CANDIDATES\\n\\nSzymon Marciniak, Clement Turpin, Anthony Taylor - 3 candidates of the Top 25\\n\\nFor mor…', '“Peter Obi To Win PDP Primary”, “Portugal To Lift Qatar World Cup” – A Review Of Some 2022 Failed Prophecies By Respec…', 'Only 3 players made 20+ tackles at the 2022 World Cup, 2 of those were Enzo Fernandez and Mateo Kovacic (@Squawka) https://t.co…', \"K-media repeated that “Jungkook's 2022 Qatar World Cup Opening Ceremony photo performing “Dreamers” was chosen by Elle  Fra…\"]\n"
     ]
    }
   ],
   "source": [
    "print(tweets_clean)"
   ]
  },
  {
   "cell_type": "code",
   "execution_count": 12,
   "metadata": {},
   "outputs": [
    {
     "name": "stdout",
     "output_type": "stream",
     "text": [
      "['Qatar', 'hosted', 'FIFA', 'World', 'Cup', '2022', 'and', 'gifted', '#KashmirPashmina', 'shawls', 'to', 'VIPs.', 'Brand', 'Kashmir', 'is', 'soaring', 'high', 'as', 'these', 'shawls…', 'Emmy_Wise10', '@_AsiwajuLerry', 'Bro', 'just', 'delete', 'this,', 'Which', 'Most', 'world', 'cup', 'assist?', 'Most', 'complete', 'player…', 'https://t.co/AP1DMmpx5e', 'jungkook', 'graduated', 'from', 'uni', 'with', 'high', 'honors,', 'released', '4', 'solo', 'songs', 'and', 'an', 'anthology', 'album', 'with', 'bts,', 'got', 'invited', 'to', 'the', 'whi…', 'Katie', 'McCabe', 'leading', 'Ireland', 'to', 'the', '2023', 'World', 'Cup', 'was', 'truly', 'one', 'of', 'my', 'highlights', 'of', '2022', 'https://t.co/kWWSTWSWWe', 'Soccer', 'legend', 'Pelé', 'died', 'on', 'Thursday', 'at', 'the', 'age', 'of', '82.', 'For', 'over', '60', 'years', 'Pelé', 'stood', 'alone', 'as', 'Brazil’s', 'all-time', 'leading', 's…', 'Only', '3', 'players', 'made', '20+', 'tackles', 'at', 'the', '2022', 'World', 'Cup,', '2', 'of', 'those', 'were', 'Enzo', 'Fernandez', 'and', 'Mateo', 'Kovacic', '(@Squawka)', 'https://t.co…', 'Lionel', 'Messi', 'and', 'his', '2022', 'World', 'Cup.', 'Incredible.', 'https://t.co/YQC9lJ3y0J', 'Two', 'disasters,', 'one', 'near', 'disaster', 'and', 'a', 'World', 'Cup', 'with', 'a', 'body', 'count', 'of', 'thousands.', 'Meanwhile,', 'another', 'faultless', 'year', 'for…', '🕯️', 'Remembering', 'Pelé', '🕯️', 'Tributes', 'flooded', 'in', 'for', 'the', 'late', 'Brazilian', 'soccer', 'legend,', 'who', 'was', 'revered', 'worldwide', 'for', 'his', 'Wor…', '\"The', 'love', 'of', 'football', 'is', 'not', 'gender-specific,', 'nor', 'is', 'it', 'dictated', 'by', 'country', 'or', 'class.', 'This', 'is', 'truly', 'the', 'world’s', 'game.\"', '…', 'IFFHS', 'AWARDS', '2022', '-', 'THE', 'CANDIDATES', 'Szymon', 'Marciniak,', 'Clement', 'Turpin,', 'Anthony', 'Taylor', '-', '3', 'candidates', 'of', 'the', 'Top', '25', 'For', 'mor…', '“Peter', 'Obi', 'To', 'Win', 'PDP', 'Primary”,', '“Portugal', 'To', 'Lift', 'Qatar', 'World', 'Cup”', '–', 'A', 'Review', 'Of', 'Some', '2022', 'Failed', 'Prophecies', 'By', 'Respec…', 'Only', '3', 'players', 'made', '20+', 'tackles', 'at', 'the', '2022', 'World', 'Cup,', '2', 'of', 'those', 'were', 'Enzo', 'Fernandez', 'and', 'Mateo', 'Kovacic', '(@Squawka)', 'https://t.co…', 'K-media', 'repeated', 'that', \"“Jungkook's\", '2022', 'Qatar', 'World', 'Cup', 'Opening', 'Ceremony', 'photo', 'performing', '“Dreamers”', 'was', 'chosen', 'by', 'Elle', 'Fra…']\n"
     ]
    }
   ],
   "source": [
    "all_sentences = []\n",
    "for word in tweets_clean:\n",
    "    all_sentences.append(word)\n",
    "    \n",
    "all_sentences\n",
    "\n",
    "lines = list()\n",
    "for line in all_sentences:    \n",
    "    words = line.split()\n",
    "    for w in words: \n",
    "       lines.append(w)\n",
    "\n",
    "\n",
    "print(lines)\n"
   ]
  }
 ],
 "metadata": {
  "kernelspec": {
   "display_name": "Python 3",
   "language": "python",
   "name": "python3"
  },
  "language_info": {
   "codemirror_mode": {
    "name": "ipython",
    "version": 3
   },
   "file_extension": ".py",
   "mimetype": "text/x-python",
   "name": "python",
   "nbconvert_exporter": "python",
   "pygments_lexer": "ipython3",
   "version": "3.8.5"
  }
 },
 "nbformat": 4,
 "nbformat_minor": 4
}
